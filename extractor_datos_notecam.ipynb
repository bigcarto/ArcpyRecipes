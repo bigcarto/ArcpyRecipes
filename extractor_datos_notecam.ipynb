{
  "nbformat": 4,
  "nbformat_minor": 0,
  "metadata": {
    "colab": {
      "name": "extractor_datos_notecam.ipynb",
      "provenance": [],
      "mount_file_id": "1u_mQSWf41EBsl1zs6i5yc2OTRg_RrClw",
      "authorship_tag": "ABX9TyOu/VEEE7/6TWAkBMNqPe3m",
      "include_colab_link": true
    },
    "kernelspec": {
      "name": "python3",
      "display_name": "Python 3"
    },
    "language_info": {
      "name": "python"
    }
  },
  "cells": [
    {
      "cell_type": "markdown",
      "metadata": {
        "id": "view-in-github",
        "colab_type": "text"
      },
      "source": [
        "<a href=\"https://colab.research.google.com/github/bigcarto/ArcpyRecipes/blob/master/extractor_datos_notecam.ipynb\" target=\"_parent\"><img src=\"https://colab.research.google.com/assets/colab-badge.svg\" alt=\"Open In Colab\"/></a>"
      ]
    },
    {
      "cell_type": "code",
      "execution_count": null,
      "metadata": {
        "colab": {
          "base_uri": "https://localhost:8080/"
        },
        "id": "kSJ3WkvgnoJz",
        "outputId": "f9288b67-924a-40d9-b99c-7cd58b5e0b9b"
      },
      "outputs": [
        {
          "output_type": "stream",
          "name": "stdout",
          "text": [
            "Reading package lists... Done\n",
            "Building dependency tree       \n",
            "Reading state information... Done\n",
            "The following additional packages will be installed:\n",
            "  tesseract-ocr-eng tesseract-ocr-osd\n",
            "The following NEW packages will be installed:\n",
            "  tesseract-ocr tesseract-ocr-eng tesseract-ocr-osd\n",
            "0 upgraded, 3 newly installed, 0 to remove and 39 not upgraded.\n",
            "Need to get 4,795 kB of archives.\n",
            "After this operation, 15.8 MB of additional disk space will be used.\n",
            "Get:1 http://archive.ubuntu.com/ubuntu bionic/universe amd64 tesseract-ocr-eng all 4.00~git24-0e00fe6-1.2 [1,588 kB]\n",
            "Get:2 http://archive.ubuntu.com/ubuntu bionic/universe amd64 tesseract-ocr-osd all 4.00~git24-0e00fe6-1.2 [2,989 kB]\n",
            "Get:3 http://archive.ubuntu.com/ubuntu bionic/universe amd64 tesseract-ocr amd64 4.00~git2288-10f4998a-2 [218 kB]\n",
            "Fetched 4,795 kB in 1s (5,374 kB/s)\n",
            "debconf: unable to initialize frontend: Dialog\n",
            "debconf: (No usable dialog-like program is installed, so the dialog based frontend cannot be used. at /usr/share/perl5/Debconf/FrontEnd/Dialog.pm line 76, <> line 3.)\n",
            "debconf: falling back to frontend: Readline\n",
            "debconf: unable to initialize frontend: Readline\n",
            "debconf: (This frontend requires a controlling tty.)\n",
            "debconf: falling back to frontend: Teletype\n",
            "dpkg-preconfigure: unable to re-open stdin: \n",
            "Selecting previously unselected package tesseract-ocr-eng.\n",
            "(Reading database ... 155332 files and directories currently installed.)\n",
            "Preparing to unpack .../tesseract-ocr-eng_4.00~git24-0e00fe6-1.2_all.deb ...\n",
            "Unpacking tesseract-ocr-eng (4.00~git24-0e00fe6-1.2) ...\n",
            "Selecting previously unselected package tesseract-ocr-osd.\n",
            "Preparing to unpack .../tesseract-ocr-osd_4.00~git24-0e00fe6-1.2_all.deb ...\n",
            "Unpacking tesseract-ocr-osd (4.00~git24-0e00fe6-1.2) ...\n",
            "Selecting previously unselected package tesseract-ocr.\n",
            "Preparing to unpack .../tesseract-ocr_4.00~git2288-10f4998a-2_amd64.deb ...\n",
            "Unpacking tesseract-ocr (4.00~git2288-10f4998a-2) ...\n",
            "Setting up tesseract-ocr-osd (4.00~git24-0e00fe6-1.2) ...\n",
            "Setting up tesseract-ocr-eng (4.00~git24-0e00fe6-1.2) ...\n",
            "Setting up tesseract-ocr (4.00~git2288-10f4998a-2) ...\n",
            "Processing triggers for man-db (2.8.3-2ubuntu0.1) ...\n"
          ]
        }
      ],
      "source": [
        "!sudo apt install tesseract-ocr"
      ]
    },
    {
      "cell_type": "code",
      "source": [
        "!pip install pytesseract\n",
        "!pip install python-resize-image"
      ],
      "metadata": {
        "colab": {
          "base_uri": "https://localhost:8080/"
        },
        "id": "U0_10d2cnwSQ",
        "outputId": "8baecc1e-e5d7-4b6c-d8df-f3052bdc1f0a"
      },
      "execution_count": null,
      "outputs": [
        {
          "output_type": "stream",
          "name": "stdout",
          "text": [
            "Requirement already satisfied: pytesseract in /usr/local/lib/python3.7/dist-packages (0.3.9)\n",
            "Requirement already satisfied: packaging>=21.3 in /usr/local/lib/python3.7/dist-packages (from pytesseract) (21.3)\n",
            "Requirement already satisfied: Pillow>=8.0.0 in /usr/local/lib/python3.7/dist-packages (from pytesseract) (9.0.1)\n",
            "Requirement already satisfied: pyparsing!=3.0.5,>=2.0.2 in /usr/local/lib/python3.7/dist-packages (from packaging>=21.3->pytesseract) (3.0.7)\n",
            "Collecting python-resize-image\n",
            "  Downloading python_resize_image-1.1.20-py2.py3-none-any.whl (8.4 kB)\n",
            "Requirement already satisfied: requests>=2.19.1 in /usr/local/lib/python3.7/dist-packages (from python-resize-image) (2.23.0)\n",
            "Requirement already satisfied: Pillow>=5.1.0 in /usr/local/lib/python3.7/dist-packages (from python-resize-image) (9.0.1)\n",
            "Requirement already satisfied: chardet<4,>=3.0.2 in /usr/local/lib/python3.7/dist-packages (from requests>=2.19.1->python-resize-image) (3.0.4)\n",
            "Requirement already satisfied: urllib3!=1.25.0,!=1.25.1,<1.26,>=1.21.1 in /usr/local/lib/python3.7/dist-packages (from requests>=2.19.1->python-resize-image) (1.24.3)\n",
            "Requirement already satisfied: certifi>=2017.4.17 in /usr/local/lib/python3.7/dist-packages (from requests>=2.19.1->python-resize-image) (2021.10.8)\n",
            "Requirement already satisfied: idna<3,>=2.5 in /usr/local/lib/python3.7/dist-packages (from requests>=2.19.1->python-resize-image) (2.10)\n",
            "Installing collected packages: python-resize-image\n",
            "Successfully installed python-resize-image-1.1.20\n"
          ]
        }
      ]
    },
    {
      "cell_type": "code",
      "source": [
        "import csv\n",
        "import os, subprocess\n",
        "import PIL\n",
        "from PIL import Image\n",
        "from resizeimage import resizeimage\n",
        "import pytesseract\n",
        "import pandas as pd\n",
        "\n"
      ],
      "metadata": {
        "id": "TU1uJux6n4tp"
      },
      "execution_count": 110,
      "outputs": []
    },
    {
      "cell_type": "code",
      "source": [
        "dir = 'fotos'\n",
        "x = (10, 755, 100, 782)\n",
        "y = (140, 755, 243, 782)\n",
        "precision = (120, 812, 260, 840)\n",
        "tiempo = (100, 840, 310, 865)\n",
        "zona =  (8, 868, 320, 891)\n",
        "with open('/content/TABLA_fotos.csv', 'w') as file:\n",
        "  writer = csv.writer(file,delimiter=\";\")\n",
        "  writer.writerow([\"foto\",\"x\",\"y\",\"hora\",\"zona\"])\n",
        "  for fichero in os.listdir(dir):\n",
        "    print  (fichero)\n",
        "    if fichero.endswith(\"jpg\"): \n",
        "      # Your code comes here such as \n",
        "      print(fichero)\n",
        "      imagen = Image.open(\"/content/fotos/\" + fichero )\n",
        "      ancho, alto = imagen.size\n",
        "      reescalado = resizeimage.resize_width(imagen, 1200)\n",
        "      imgx = reescalado.crop(x)\n",
        "      imgy = reescalado.crop(y)\n",
        "      imgprecision = reescalado.crop(precision)\n",
        "      imgtiempo = reescalado.crop(tiempo)\n",
        "      imgzona = reescalado.crop(zona)\n",
        "      textx = pytesseract.image_to_string(imgx, lang='eng')\n",
        "      texty = pytesseract.image_to_string(imgy, lang='eng')\n",
        "      textprecision = pytesseract.image_to_string(imgprecision, lang='eng')\n",
        "      texttiempo = pytesseract.image_to_string(imgtiempo, lang='eng')\n",
        "      textzona = pytesseract.image_to_string(imgzona, lang='eng')\n",
        "      writer.writerow([fichero,textx,texty,textprecision,texttiempo,textzona])\n",
        "      imgzona.save('test-image-cover.jpg', imagen.format)\n",
        "    "
      ],
      "metadata": {
        "colab": {
          "base_uri": "https://localhost:8080/"
        },
        "id": "jfi6p75Vo751",
        "outputId": "5c2e3330-b759-4628-f2c5-a8ad9127fccd"
      },
      "execution_count": 120,
      "outputs": [
        {
          "output_type": "stream",
          "name": "stdout",
          "text": [
            ".ipynb_checkpoints\n",
            "0cc35a99-ef8a-4a51-a4ea-d69149923e25.jpg\n",
            "0cc35a99-ef8a-4a51-a4ea-d69149923e25.jpg\n",
            "0b06b6de-5ab0-41c6-ae1d-22446fef7fb0.jpg\n",
            "0b06b6de-5ab0-41c6-ae1d-22446fef7fb0.jpg\n"
          ]
        }
      ]
    },
    {
      "cell_type": "code",
      "source": [
        "df = pd.read_csv(\"/content/TABLA_fotos.csv\", sep = ';')\n",
        "df.head()"
      ],
      "metadata": {
        "colab": {
          "base_uri": "https://localhost:8080/",
          "height": 112
        },
        "id": "gOgf0C2x37nR",
        "outputId": "11e9361e-97ae-41f2-be15-b6d9bab483c6"
      },
      "execution_count": 121,
      "outputs": [
        {
          "output_type": "execute_result",
          "data": {
            "text/html": [
              "\n",
              "  <div id=\"df-0dbddf36-ad07-445c-bee0-cfbccb407d3f\">\n",
              "    <div class=\"colab-df-container\">\n",
              "      <div>\n",
              "<style scoped>\n",
              "    .dataframe tbody tr th:only-of-type {\n",
              "        vertical-align: middle;\n",
              "    }\n",
              "\n",
              "    .dataframe tbody tr th {\n",
              "        vertical-align: top;\n",
              "    }\n",
              "\n",
              "    .dataframe thead th {\n",
              "        text-align: right;\n",
              "    }\n",
              "</style>\n",
              "<table border=\"1\" class=\"dataframe\">\n",
              "  <thead>\n",
              "    <tr style=\"text-align: right;\">\n",
              "      <th></th>\n",
              "      <th>foto</th>\n",
              "      <th>x</th>\n",
              "      <th>y</th>\n",
              "      <th>hora</th>\n",
              "      <th>zona</th>\n",
              "    </tr>\n",
              "  </thead>\n",
              "  <tbody>\n",
              "    <tr>\n",
              "      <th>0cc35a99-ef8a-4a51-a4ea-d69149923e25.jpg</th>\n",
              "      <td>653456</td>\n",
              "      <td>4809908.0</td>\n",
              "      <td>2.8m\\n</td>\n",
              "      <td>24-02-2022 11:01\\n</td>\n",
              "      <td></td>\n",
              "    </tr>\n",
              "    <tr>\n",
              "      <th>0b06b6de-5ab0-41c6-ae1d-22446fef7fb0.jpg</th>\n",
              "      <td>699016</td>\n",
              "      <td>4783649.0</td>\n",
              "      <td>59.3 m\\n</td>\n",
              "      <td>02-03-2022 15:06\\n</td>\n",
              "      <td></td>\n",
              "    </tr>\n",
              "  </tbody>\n",
              "</table>\n",
              "</div>\n",
              "      <button class=\"colab-df-convert\" onclick=\"convertToInteractive('df-0dbddf36-ad07-445c-bee0-cfbccb407d3f')\"\n",
              "              title=\"Convert this dataframe to an interactive table.\"\n",
              "              style=\"display:none;\">\n",
              "        \n",
              "  <svg xmlns=\"http://www.w3.org/2000/svg\" height=\"24px\"viewBox=\"0 0 24 24\"\n",
              "       width=\"24px\">\n",
              "    <path d=\"M0 0h24v24H0V0z\" fill=\"none\"/>\n",
              "    <path d=\"M18.56 5.44l.94 2.06.94-2.06 2.06-.94-2.06-.94-.94-2.06-.94 2.06-2.06.94zm-11 1L8.5 8.5l.94-2.06 2.06-.94-2.06-.94L8.5 2.5l-.94 2.06-2.06.94zm10 10l.94 2.06.94-2.06 2.06-.94-2.06-.94-.94-2.06-.94 2.06-2.06.94z\"/><path d=\"M17.41 7.96l-1.37-1.37c-.4-.4-.92-.59-1.43-.59-.52 0-1.04.2-1.43.59L10.3 9.45l-7.72 7.72c-.78.78-.78 2.05 0 2.83L4 21.41c.39.39.9.59 1.41.59.51 0 1.02-.2 1.41-.59l7.78-7.78 2.81-2.81c.8-.78.8-2.07 0-2.86zM5.41 20L4 18.59l7.72-7.72 1.47 1.35L5.41 20z\"/>\n",
              "  </svg>\n",
              "      </button>\n",
              "      \n",
              "  <style>\n",
              "    .colab-df-container {\n",
              "      display:flex;\n",
              "      flex-wrap:wrap;\n",
              "      gap: 12px;\n",
              "    }\n",
              "\n",
              "    .colab-df-convert {\n",
              "      background-color: #E8F0FE;\n",
              "      border: none;\n",
              "      border-radius: 50%;\n",
              "      cursor: pointer;\n",
              "      display: none;\n",
              "      fill: #1967D2;\n",
              "      height: 32px;\n",
              "      padding: 0 0 0 0;\n",
              "      width: 32px;\n",
              "    }\n",
              "\n",
              "    .colab-df-convert:hover {\n",
              "      background-color: #E2EBFA;\n",
              "      box-shadow: 0px 1px 2px rgba(60, 64, 67, 0.3), 0px 1px 3px 1px rgba(60, 64, 67, 0.15);\n",
              "      fill: #174EA6;\n",
              "    }\n",
              "\n",
              "    [theme=dark] .colab-df-convert {\n",
              "      background-color: #3B4455;\n",
              "      fill: #D2E3FC;\n",
              "    }\n",
              "\n",
              "    [theme=dark] .colab-df-convert:hover {\n",
              "      background-color: #434B5C;\n",
              "      box-shadow: 0px 1px 3px 1px rgba(0, 0, 0, 0.15);\n",
              "      filter: drop-shadow(0px 1px 2px rgba(0, 0, 0, 0.3));\n",
              "      fill: #FFFFFF;\n",
              "    }\n",
              "  </style>\n",
              "\n",
              "      <script>\n",
              "        const buttonEl =\n",
              "          document.querySelector('#df-0dbddf36-ad07-445c-bee0-cfbccb407d3f button.colab-df-convert');\n",
              "        buttonEl.style.display =\n",
              "          google.colab.kernel.accessAllowed ? 'block' : 'none';\n",
              "\n",
              "        async function convertToInteractive(key) {\n",
              "          const element = document.querySelector('#df-0dbddf36-ad07-445c-bee0-cfbccb407d3f');\n",
              "          const dataTable =\n",
              "            await google.colab.kernel.invokeFunction('convertToInteractive',\n",
              "                                                     [key], {});\n",
              "          if (!dataTable) return;\n",
              "\n",
              "          const docLinkHtml = 'Like what you see? Visit the ' +\n",
              "            '<a target=\"_blank\" href=https://colab.research.google.com/notebooks/data_table.ipynb>data table notebook</a>'\n",
              "            + ' to learn more about interactive tables.';\n",
              "          element.innerHTML = '';\n",
              "          dataTable['output_type'] = 'display_data';\n",
              "          await google.colab.output.renderOutput(dataTable, element);\n",
              "          const docLink = document.createElement('div');\n",
              "          docLink.innerHTML = docLinkHtml;\n",
              "          element.appendChild(docLink);\n",
              "        }\n",
              "      </script>\n",
              "    </div>\n",
              "  </div>\n",
              "  "
            ],
            "text/plain": [
              "                                            foto          x          y  \\\n",
              "0cc35a99-ef8a-4a51-a4ea-d69149923e25.jpg  653456  4809908.0    2.8m\\n\n",
              "   \n",
              "0b06b6de-5ab0-41c6-ae1d-22446fef7fb0.jpg  699016  4783649.0  59.3 m\\n\n",
              "   \n",
              "\n",
              "                                                         hora zona  \n",
              "0cc35a99-ef8a-4a51-a4ea-d69149923e25.jpg  24-02-2022 11:01\\n\n",
              "    \n",
              "  \n",
              "0b06b6de-5ab0-41c6-ae1d-22446fef7fb0.jpg  02-03-2022 15:06\\n\n",
              "    \n",
              "  "
            ]
          },
          "metadata": {},
          "execution_count": 121
        }
      ]
    }
  ]
}